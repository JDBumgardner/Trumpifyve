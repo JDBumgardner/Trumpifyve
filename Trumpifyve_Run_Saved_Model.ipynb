{
  "nbformat": 4,
  "nbformat_minor": 0,
  "metadata": {
    "colab": {
      "name": "Trumpifyve Run Saved Model",
      "provenance": [],
      "collapsed_sections": [
        "zrtR2urJV3ST"
      ],
      "machine_shape": "hm"
    },
    "kernelspec": {
      "name": "python3",
      "display_name": "Python 3"
    },
    "accelerator": "GPU"
  },
  "cells": [
    {
      "cell_type": "markdown",
      "metadata": {
        "colab_type": "text",
        "id": "YONnGjpAYUdU"
      },
      "source": [
        "\n",
        "<a href=\"https://colab.research.google.com/github/JDBumgardner/Trumpifyve/Trumpifyve_Run_Saved_Model.ipynb\" target=\"_parent\"><img src=\"https://colab.research.google.com/assets/colab-badge.svg\" alt=\"Open In Colab\"/></a>"
      ]
    },
    {
      "cell_type": "markdown",
      "metadata": {
        "colab_type": "text",
        "id": "zrtR2urJV3ST"
      },
      "source": [
        "#### Licensed under the Apache License, Version 2.0 (the \"License\");"
      ]
    },
    {
      "cell_type": "code",
      "metadata": {
        "colab_type": "code",
        "id": "DWdCSqJ6WHBh",
        "colab": {}
      },
      "source": [
        "# Copyright 2019 The T5 Authors. All Rights Reserved.\n",
        "# Copyright 2020 Jacob Bumgardner, Jack Robison, and Google inc. \n",
        "#\n",
        "# Licensed under the Apache License, Version 2.0 (the \"License\");\n",
        "# you may not use this file except in compliance with the License.\n",
        "# You may obtain a copy of the License at\n",
        "#\n",
        "#     http://www.apache.org/licenses/LICENSE-2.0\n",
        "#\n",
        "# Unless required by applicable law or agreed to in writing, software\n",
        "# distributed under the License is distributed on an \"AS IS\" BASIS,\n",
        "# WITHOUT WARRANTIES OR CONDITIONS OF ANY KIND, either express or implied.\n",
        "# See the License for the specific language governing permissions and\n",
        "# limitations under the License.\n",
        "# =============================================================================="
      ],
      "execution_count": 0,
      "outputs": []
    },
    {
      "cell_type": "markdown",
      "metadata": {
        "id": "l7Nj2QIG97Oh",
        "colab_type": "text"
      },
      "source": [
        "#### Description "
      ]
    },
    {
      "cell_type": "markdown",
      "metadata": {
        "id": "J0pHZkUv-fGx",
        "colab_type": "text"
      },
      "source": [
        "https://github.com/JDBumgardner/Trumpifyve/\n",
        "\n",
        "In this notebook we demonstrate how to run inference on our pretrained models to trumpify arbitrary text. First we decide on a model temperature, then we load the saved and exported model and then we apply the style shift over input text. \n"
      ]
    },
    {
      "cell_type": "markdown",
      "metadata": {
        "id": "6y9qDUSPAgc9",
        "colab_type": "text"
      },
      "source": [
        "## Load the saved model"
      ]
    },
    {
      "cell_type": "code",
      "metadata": {
        "cellView": "both",
        "colab_type": "code",
        "id": "LyBuc4WH-cyB",
        "colab": {}
      },
      "source": [
        "%tensorflow_version 2.x\n",
        "!pip install tensorflow-text\n",
        "from google.colab import auth\n",
        "auth.authenticate_user()"
      ],
      "execution_count": 0,
      "outputs": []
    },
    {
      "cell_type": "code",
      "metadata": {
        "id": "_RXcmqZ2g0IB",
        "colab_type": "code",
        "cellView": "both",
        "colab": {}
      },
      "source": [
        "MODEL_TEMPERATURE = \"1.5\" #@param[\"0\", \"1\", \"1.5\", \"2\"]\n",
        "saved_model_path = {\n",
        "    \"0\": 'gs://style_shift_trump/models/3B/export/1587870976',\n",
        "    \"1\": 'gs://style_shift_trump/models/3B/export/1587870500',\n",
        "    \"1.5\":'gs://style_shift_trump/models/3B/export/1587870045',\n",
        "    \"2\":'gs://style_shift_trump/models/3B/export/1587869196',\n",
        "    }[MODEL_TEMPERATURE]\n"
      ],
      "execution_count": 0,
      "outputs": []
    },
    {
      "cell_type": "code",
      "metadata": {
        "colab_type": "code",
        "id": "1TpeMFGhaN7r",
        "colab": {}
      },
      "source": [
        "import tensorflow as tf\n",
        "import tensorflow_text  # Required to run exported model.\n",
        "\n",
        "def load_predict_fn(model_path):\n",
        "  if tf.executing_eagerly():\n",
        "    print(\"Loading SavedModel in eager mode.\")\n",
        "    imported = tf.saved_model.load(model_path, [\"serve\"])\n",
        "    return lambda x: imported.signatures['serving_default'](tf.constant(x))['outputs'].numpy()\n",
        "  else:\n",
        "    print(\"Loading SavedModel in tf 1.x graph mode.\")\n",
        "    tf.compat.v1.reset_default_graph()\n",
        "    sess = tf.compat.v1.Session()\n",
        "    meta_graph_def = tf.compat.v1.saved_model.load(sess, [\"serve\"], model_path)\n",
        "    signature_def = meta_graph_def.signature_def[\"serving_default\"]\n",
        "    return lambda x: sess.run(\n",
        "        fetches=signature_def.outputs[\"outputs\"].name, \n",
        "        feed_dict={signature_def.inputs[\"input\"].name: x}\n",
        "    )\n",
        "\n",
        "predict_fn = load_predict_fn(saved_model_path)"
      ],
      "execution_count": 0,
      "outputs": []
    },
    {
      "cell_type": "markdown",
      "metadata": {
        "colab_type": "text",
        "id": "YbGC8xefaYtV"
      },
      "source": [
        "## Apply\n",
        "\n",
        "We can now call the style_shift method."
      ]
    },
    {
      "cell_type": "code",
      "metadata": {
        "colab_type": "code",
        "id": "3WA0BYI9abgv",
        "colab": {}
      },
      "source": [
        "def style_shift(text_sample):\n",
        "  return predict_fn([\"trumpifyve:\" + text_sample])[0].decode('utf-8')\n",
        "\n",
        "list_of_text_samples = [\n",
        "                        \"Encourage your staff or community members to protect their personal health.\",\n",
        "                        \"Post the signs and symptoms of COVID-19: fever, cough, shortness of breath.\",\n",
        "                        \"Clean surfaces that are frequently touched – things such as shared desks, countertops, kitchen areas, electronics, and doorknobs.\",\n",
        "                        \"Limit events and meetings that require close contact.\",\n",
        "                        \"Stay up to date on developments in your community.\",\n",
        "                        \"Create an emergency plan for possible outbreak.\",\n",
        "                        \"Assess if community members are at higher risk and plan accordingly.\"\n",
        "                 ]\n",
        "\n",
        "\n",
        "for text_sample in list_of_text_samples:\n",
        "    print(style_shift(text_sample))"
      ],
      "execution_count": 0,
      "outputs": []
    }
  ]
}